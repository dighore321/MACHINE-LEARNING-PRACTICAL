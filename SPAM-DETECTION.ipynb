{
 "cells": [
  {
   "cell_type": "code",
   "execution_count": 1,
   "id": "b707fdc9",
   "metadata": {
    "_cell_guid": "b1076dfc-b9ad-4769-8c92-a6c4dae69d19",
    "_uuid": "8f2839f25d086af736a60e9eeb907d3b93b6e0e5",
    "execution": {
     "iopub.execute_input": "2025-08-14T09:37:06.017320Z",
     "iopub.status.busy": "2025-08-14T09:37:06.017006Z",
     "iopub.status.idle": "2025-08-14T09:37:10.484963Z",
     "shell.execute_reply": "2025-08-14T09:37:10.484003Z"
    },
    "papermill": {
     "duration": 4.47469,
     "end_time": "2025-08-14T09:37:10.486718",
     "exception": false,
     "start_time": "2025-08-14T09:37:06.012028",
     "status": "completed"
    },
    "tags": []
   },
   "outputs": [],
   "source": [
    "import pandas as pd\n",
    "import numpy as np\n",
    "import re\n",
    "import nltk\n",
    "from nltk.corpus import stopwords\n",
    "from nltk.stem.porter import PorterStemmer\n",
    "from sklearn.feature_extraction.text import TfidfVectorizer\n",
    "from sklearn.model_selection import train_test_split\n",
    "from sklearn.naive_bayes import MultinomialNB\n",
    "from sklearn.metrics import accuracy_score, confusion_matrix, classification_report"
   ]
  },
  {
   "cell_type": "code",
   "execution_count": 2,
   "id": "d5cc0354",
   "metadata": {
    "execution": {
     "iopub.execute_input": "2025-08-14T09:37:10.495425Z",
     "iopub.status.busy": "2025-08-14T09:37:10.494480Z",
     "iopub.status.idle": "2025-08-14T09:37:10.541712Z",
     "shell.execute_reply": "2025-08-14T09:37:10.540750Z"
    },
    "papermill": {
     "duration": 0.053094,
     "end_time": "2025-08-14T09:37:10.543498",
     "exception": false,
     "start_time": "2025-08-14T09:37:10.490404",
     "status": "completed"
    },
    "tags": []
   },
   "outputs": [],
   "source": [
    "try:\n",
    "    df = pd.read_csv('/kaggle/input/spamdata/spam.csv', encoding='latin-1')\n",
    "except FileNotFoundError:\n",
    "    print(\"Error: 'spam.csv' not found at '/kaggle/input/spamdata/spam.csv'. Please check the file path.\")\n",
    "    exit()"
   ]
  },
  {
   "cell_type": "code",
   "execution_count": 3,
   "id": "6bb66227",
   "metadata": {
    "execution": {
     "iopub.execute_input": "2025-08-14T09:37:10.551111Z",
     "iopub.status.busy": "2025-08-14T09:37:10.550797Z",
     "iopub.status.idle": "2025-08-14T09:37:10.566716Z",
     "shell.execute_reply": "2025-08-14T09:37:10.565708Z"
    },
    "papermill": {
     "duration": 0.021745,
     "end_time": "2025-08-14T09:37:10.568498",
     "exception": false,
     "start_time": "2025-08-14T09:37:10.546753",
     "status": "completed"
    },
    "tags": []
   },
   "outputs": [],
   "source": [
    "df.drop(columns=['Unnamed: 2', 'Unnamed: 3', 'Unnamed: 4'], inplace=True)\n",
    "df.rename(columns={'v1': 'label', 'v2': 'message'}, inplace=True)"
   ]
  },
  {
   "cell_type": "code",
   "execution_count": 4,
   "id": "e5a80f5d",
   "metadata": {
    "execution": {
     "iopub.execute_input": "2025-08-14T09:37:10.576228Z",
     "iopub.status.busy": "2025-08-14T09:37:10.575896Z",
     "iopub.status.idle": "2025-08-14T09:37:10.600511Z",
     "shell.execute_reply": "2025-08-14T09:37:10.599101Z"
    },
    "papermill": {
     "duration": 0.030388,
     "end_time": "2025-08-14T09:37:10.602183",
     "exception": false,
     "start_time": "2025-08-14T09:37:10.571795",
     "status": "completed"
    },
    "tags": []
   },
   "outputs": [
    {
     "name": "stdout",
     "output_type": "stream",
     "text": [
      "--- Initial Data ---\n",
      "  label                                            message\n",
      "0   ham  Go until jurong point, crazy.. Available only ...\n",
      "1   ham                      Ok lar... Joking wif u oni...\n",
      "2  spam  Free entry in 2 a wkly comp to win FA Cup fina...\n",
      "3   ham  U dun say so early hor... U c already then say...\n",
      "4   ham  Nah I don't think he goes to usf, he lives aro...\n",
      "\n",
      "--- Data Info ---\n",
      "<class 'pandas.core.frame.DataFrame'>\n",
      "RangeIndex: 5572 entries, 0 to 5571\n",
      "Data columns (total 2 columns):\n",
      " #   Column   Non-Null Count  Dtype \n",
      "---  ------   --------------  ----- \n",
      " 0   label    5572 non-null   object\n",
      " 1   message  5572 non-null   object\n",
      "dtypes: object(2)\n",
      "memory usage: 87.2+ KB\n"
     ]
    }
   ],
   "source": [
    "print(\"--- Initial Data ---\")\n",
    "print(df.head())\n",
    "print(\"\\n--- Data Info ---\")\n",
    "df.info()"
   ]
  },
  {
   "cell_type": "code",
   "execution_count": 5,
   "id": "953ccea6",
   "metadata": {
    "execution": {
     "iopub.execute_input": "2025-08-14T09:37:10.609757Z",
     "iopub.status.busy": "2025-08-14T09:37:10.609323Z",
     "iopub.status.idle": "2025-08-14T09:37:10.619050Z",
     "shell.execute_reply": "2025-08-14T09:37:10.617978Z"
    },
    "papermill": {
     "duration": 0.015522,
     "end_time": "2025-08-14T09:37:10.620905",
     "exception": false,
     "start_time": "2025-08-14T09:37:10.605383",
     "status": "completed"
    },
    "tags": []
   },
   "outputs": [],
   "source": [
    "try:\n",
    "    stopwords.words('english')\n",
    "except:\n",
    "    nltk.download('stopwords')"
   ]
  },
  {
   "cell_type": "code",
   "execution_count": 6,
   "id": "99e3b999",
   "metadata": {
    "execution": {
     "iopub.execute_input": "2025-08-14T09:37:10.629270Z",
     "iopub.status.busy": "2025-08-14T09:37:10.628276Z",
     "iopub.status.idle": "2025-08-14T09:37:10.633049Z",
     "shell.execute_reply": "2025-08-14T09:37:10.632059Z"
    },
    "papermill": {
     "duration": 0.01062,
     "end_time": "2025-08-14T09:37:10.634818",
     "exception": false,
     "start_time": "2025-08-14T09:37:10.624198",
     "status": "completed"
    },
    "tags": []
   },
   "outputs": [],
   "source": [
    "ps = PorterStemmer()\n",
    "corpus = []"
   ]
  },
  {
   "cell_type": "code",
   "execution_count": 7,
   "id": "a57e022f",
   "metadata": {
    "execution": {
     "iopub.execute_input": "2025-08-14T09:37:10.643520Z",
     "iopub.status.busy": "2025-08-14T09:37:10.642822Z",
     "iopub.status.idle": "2025-08-14T09:37:20.087835Z",
     "shell.execute_reply": "2025-08-14T09:37:20.086872Z"
    },
    "papermill": {
     "duration": 9.45135,
     "end_time": "2025-08-14T09:37:20.089717",
     "exception": false,
     "start_time": "2025-08-14T09:37:10.638367",
     "status": "completed"
    },
    "tags": []
   },
   "outputs": [],
   "source": [
    "for i in range(0, len(df)):\n",
    "    # Remove all characters that are not letters\n",
    "    review = re.sub('[^a-zA-Z]', ' ', df['message'][i])\n",
    "    # Convert to lowercase\n",
    "    review = review.lower()\n",
    "    # Split the message into a list of words\n",
    "    review = review.split()\n",
    "    # Stem the words and remove stopwords\n",
    "    review = [ps.stem(word) for word in review if not word in stopwords.words('english')]\n",
    "    # Join the words back into a single string\n",
    "    review = ' '.join(review)\n",
    "    corpus.append(review)"
   ]
  },
  {
   "cell_type": "code",
   "execution_count": 8,
   "id": "13dd636d",
   "metadata": {
    "execution": {
     "iopub.execute_input": "2025-08-14T09:37:20.097532Z",
     "iopub.status.busy": "2025-08-14T09:37:20.097192Z",
     "iopub.status.idle": "2025-08-14T09:37:20.332500Z",
     "shell.execute_reply": "2025-08-14T09:37:20.331715Z"
    },
    "papermill": {
     "duration": 0.241089,
     "end_time": "2025-08-14T09:37:20.334201",
     "exception": false,
     "start_time": "2025-08-14T09:37:20.093112",
     "status": "completed"
    },
    "tags": []
   },
   "outputs": [],
   "source": [
    "tfidf = TfidfVectorizer(max_features=2500)\n",
    "X = tfidf.fit_transform(corpus).toarray()"
   ]
  },
  {
   "cell_type": "code",
   "execution_count": 9,
   "id": "71d24d00",
   "metadata": {
    "execution": {
     "iopub.execute_input": "2025-08-14T09:37:20.341828Z",
     "iopub.status.busy": "2025-08-14T09:37:20.341496Z",
     "iopub.status.idle": "2025-08-14T09:37:20.349264Z",
     "shell.execute_reply": "2025-08-14T09:37:20.348460Z"
    },
    "papermill": {
     "duration": 0.013674,
     "end_time": "2025-08-14T09:37:20.351215",
     "exception": false,
     "start_time": "2025-08-14T09:37:20.337541",
     "status": "completed"
    },
    "tags": []
   },
   "outputs": [],
   "source": [
    "y = pd.get_dummies(df['label'])\n",
    "y = y['spam'].values"
   ]
  },
  {
   "cell_type": "code",
   "execution_count": 10,
   "id": "78319b2f",
   "metadata": {
    "execution": {
     "iopub.execute_input": "2025-08-14T09:37:20.358991Z",
     "iopub.status.busy": "2025-08-14T09:37:20.358668Z",
     "iopub.status.idle": "2025-08-14T09:37:20.429315Z",
     "shell.execute_reply": "2025-08-14T09:37:20.428397Z"
    },
    "papermill": {
     "duration": 0.076324,
     "end_time": "2025-08-14T09:37:20.431029",
     "exception": false,
     "start_time": "2025-08-14T09:37:20.354705",
     "status": "completed"
    },
    "tags": []
   },
   "outputs": [],
   "source": [
    "X_train, X_test, y_train, y_test = train_test_split(X, y, test_size=0.20, random_state=0)"
   ]
  },
  {
   "cell_type": "code",
   "execution_count": 11,
   "id": "0dc35863",
   "metadata": {
    "execution": {
     "iopub.execute_input": "2025-08-14T09:37:20.439044Z",
     "iopub.status.busy": "2025-08-14T09:37:20.438728Z",
     "iopub.status.idle": "2025-08-14T09:37:20.493395Z",
     "shell.execute_reply": "2025-08-14T09:37:20.492532Z"
    },
    "papermill": {
     "duration": 0.060912,
     "end_time": "2025-08-14T09:37:20.495140",
     "exception": false,
     "start_time": "2025-08-14T09:37:20.434228",
     "status": "completed"
    },
    "tags": []
   },
   "outputs": [],
   "source": [
    "spam_detect_model = MultinomialNB().fit(X_train, y_train)"
   ]
  },
  {
   "cell_type": "code",
   "execution_count": 12,
   "id": "ce1933fd",
   "metadata": {
    "execution": {
     "iopub.execute_input": "2025-08-14T09:37:20.502945Z",
     "iopub.status.busy": "2025-08-14T09:37:20.502583Z",
     "iopub.status.idle": "2025-08-14T09:37:20.528522Z",
     "shell.execute_reply": "2025-08-14T09:37:20.527406Z"
    },
    "papermill": {
     "duration": 0.031789,
     "end_time": "2025-08-14T09:37:20.530264",
     "exception": false,
     "start_time": "2025-08-14T09:37:20.498475",
     "status": "completed"
    },
    "tags": []
   },
   "outputs": [
    {
     "name": "stdout",
     "output_type": "stream",
     "text": [
      "\n",
      "--- Model Evaluation ---\n",
      "Accuracy: 0.9722\n",
      "\n",
      "Confusion Matrix:\n",
      "[[948   1]\n",
      " [ 30 136]]\n",
      "\n",
      "Classification Report:\n",
      "              precision    recall  f1-score   support\n",
      "\n",
      "       False       0.97      1.00      0.98       949\n",
      "        True       0.99      0.82      0.90       166\n",
      "\n",
      "    accuracy                           0.97      1115\n",
      "   macro avg       0.98      0.91      0.94      1115\n",
      "weighted avg       0.97      0.97      0.97      1115\n",
      "\n"
     ]
    }
   ],
   "source": [
    "\n",
    "\n",
    "# Make predictions on the test set\n",
    "y_pred = spam_detect_model.predict(X_test)\n",
    "\n",
    "# Calculate the accuracy of the model\n",
    "accuracy = accuracy_score(y_test, y_pred)\n",
    "print(f\"\\n--- Model Evaluation ---\")\n",
    "print(f\"Accuracy: {accuracy:.4f}\")\n",
    "\n",
    "# Display the confusion matrix\n",
    "print(\"\\nConfusion Matrix:\")\n",
    "print(confusion_matrix(y_test, y_pred))\n",
    "\n",
    "# Display the classification report\n",
    "print(\"\\nClassification Report:\")\n",
    "print(classification_report(y_test, y_pred))"
   ]
  },
  {
   "cell_type": "code",
   "execution_count": 13,
   "id": "173149a5",
   "metadata": {
    "execution": {
     "iopub.execute_input": "2025-08-14T09:37:20.538171Z",
     "iopub.status.busy": "2025-08-14T09:37:20.537869Z",
     "iopub.status.idle": "2025-08-14T09:37:20.557653Z",
     "shell.execute_reply": "2025-08-14T09:37:20.556523Z"
    },
    "papermill": {
     "duration": 0.02561,
     "end_time": "2025-08-14T09:37:20.559294",
     "exception": false,
     "start_time": "2025-08-14T09:37:20.533684",
     "status": "completed"
    },
    "tags": []
   },
   "outputs": [
    {
     "name": "stdout",
     "output_type": "stream",
     "text": [
      "\n",
      "--- Predictions on New SMS ---\n",
      "'Congratulations! You've get job in london' -> This message is likely NOT spam (ham).\n",
      "'Hey, are we still on for dinner tonight at 7?' -> This message is likely NOT spam (ham).\n"
     ]
    }
   ],
   "source": [
    "def predict_spam(sms_message):\n",
    "    \"\"\"\n",
    "    Predicts if a given SMS message is spam or not.\n",
    "    \"\"\"\n",
    "    # Preprocess the input message\n",
    "    message = re.sub('[^a-zA-Z]', ' ', sms_message)\n",
    "    message = message.lower()\n",
    "    message = message.split()\n",
    "    message = [ps.stem(word) for word in message if not word in stopwords.words('english')]\n",
    "    message = ' '.join(message)\n",
    "\n",
    "    # Transform the message using the trained TF-IDF vectorizer\n",
    "    message_transformed = tfidf.transform([message]).toarray()\n",
    "\n",
    "    # Predict using the trained model\n",
    "    prediction = spam_detect_model.predict(message_transformed)\n",
    "\n",
    "    if prediction[0] == 1:\n",
    "        return \"This message is likely SPAM.\"\n",
    "    else:\n",
    "        return \"This message is likely NOT spam (ham).\"\n",
    "\n",
    "# Example Usage\n",
    "new_sms_spam = \"Congratulations! You've get job in london\"\n",
    "new_sms_ham = \"Hey, are we still on for dinner tonight at 7?\"\n",
    "\n",
    "print(\"\\n--- Predictions on New SMS ---\")\n",
    "print(f\"'{new_sms_spam}' -> {predict_spam(new_sms_spam)}\")\n",
    "print(f\"'{new_sms_ham}' -> {predict_spam(new_sms_ham)}\")"
   ]
  },
  {
   "cell_type": "code",
   "execution_count": null,
   "id": "83fcf2ba",
   "metadata": {
    "papermill": {
     "duration": 0.002941,
     "end_time": "2025-08-14T09:37:20.566594",
     "exception": false,
     "start_time": "2025-08-14T09:37:20.563653",
     "status": "completed"
    },
    "tags": []
   },
   "outputs": [],
   "source": []
  }
 ],
 "metadata": {
  "kaggle": {
   "accelerator": "none",
   "dataSources": [
    {
     "datasetId": 8067526,
     "sourceId": 12761898,
     "sourceType": "datasetVersion"
    }
   ],
   "dockerImageVersionId": 31089,
   "isGpuEnabled": false,
   "isInternetEnabled": false,
   "language": "python",
   "sourceType": "notebook"
  },
  "kernelspec": {
   "display_name": "Python 3",
   "language": "python",
   "name": "python3"
  },
  "language_info": {
   "codemirror_mode": {
    "name": "ipython",
    "version": 3
   },
   "file_extension": ".py",
   "mimetype": "text/x-python",
   "name": "python",
   "nbconvert_exporter": "python",
   "pygments_lexer": "ipython3",
   "version": "3.11.13"
  },
  "papermill": {
   "default_parameters": {},
   "duration": 20.478441,
   "end_time": "2025-08-14T09:37:21.390971",
   "environment_variables": {},
   "exception": null,
   "input_path": "__notebook__.ipynb",
   "output_path": "__notebook__.ipynb",
   "parameters": {},
   "start_time": "2025-08-14T09:37:00.912530",
   "version": "2.6.0"
  }
 },
 "nbformat": 4,
 "nbformat_minor": 5
}
