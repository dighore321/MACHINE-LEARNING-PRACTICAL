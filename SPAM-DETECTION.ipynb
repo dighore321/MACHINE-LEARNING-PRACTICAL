{
 "cells": [
  {
   "cell_type": "code",
   "execution_count": 1,
   "id": "0ad149cd",
   "metadata": {
    "_cell_guid": "b1076dfc-b9ad-4769-8c92-a6c4dae69d19",
    "_uuid": "8f2839f25d086af736a60e9eeb907d3b93b6e0e5",
    "execution": {
     "iopub.execute_input": "2025-08-14T09:33:41.942082Z",
     "iopub.status.busy": "2025-08-14T09:33:41.941697Z",
     "iopub.status.idle": "2025-08-14T09:33:46.430640Z",
     "shell.execute_reply": "2025-08-14T09:33:46.429687Z"
    },
    "papermill": {
     "duration": 4.496154,
     "end_time": "2025-08-14T09:33:46.432546",
     "exception": false,
     "start_time": "2025-08-14T09:33:41.936392",
     "status": "completed"
    },
    "tags": []
   },
   "outputs": [],
   "source": [
    "import pandas as pd\n",
    "import numpy as np\n",
    "import re\n",
    "import nltk\n",
    "from nltk.corpus import stopwords\n",
    "from nltk.stem.porter import PorterStemmer\n",
    "from sklearn.feature_extraction.text import TfidfVectorizer\n",
    "from sklearn.model_selection import train_test_split\n",
    "from sklearn.naive_bayes import MultinomialNB\n",
    "from sklearn.metrics import accuracy_score, confusion_matrix, classification_report"
   ]
  },
  {
   "cell_type": "code",
   "execution_count": 2,
   "id": "92930b4b",
   "metadata": {
    "execution": {
     "iopub.execute_input": "2025-08-14T09:33:46.440808Z",
     "iopub.status.busy": "2025-08-14T09:33:46.440355Z",
     "iopub.status.idle": "2025-08-14T09:33:46.487362Z",
     "shell.execute_reply": "2025-08-14T09:33:46.486420Z"
    },
    "papermill": {
     "duration": 0.053075,
     "end_time": "2025-08-14T09:33:46.489327",
     "exception": false,
     "start_time": "2025-08-14T09:33:46.436252",
     "status": "completed"
    },
    "tags": []
   },
   "outputs": [],
   "source": [
    "try:\n",
    "    df = pd.read_csv('/kaggle/input/spamdata/spam.csv', encoding='latin-1')\n",
    "except FileNotFoundError:\n",
    "    print(\"Error: 'spam.csv' not found at '/kaggle/input/spamdata/spam.csv'. Please check the file path.\")\n",
    "    exit()"
   ]
  },
  {
   "cell_type": "code",
   "execution_count": 3,
   "id": "d77c9a76",
   "metadata": {
    "execution": {
     "iopub.execute_input": "2025-08-14T09:33:46.497842Z",
     "iopub.status.busy": "2025-08-14T09:33:46.496928Z",
     "iopub.status.idle": "2025-08-14T09:33:46.512728Z",
     "shell.execute_reply": "2025-08-14T09:33:46.511791Z"
    },
    "papermill": {
     "duration": 0.021646,
     "end_time": "2025-08-14T09:33:46.514433",
     "exception": false,
     "start_time": "2025-08-14T09:33:46.492787",
     "status": "completed"
    },
    "tags": []
   },
   "outputs": [],
   "source": [
    "df.drop(columns=['Unnamed: 2', 'Unnamed: 3', 'Unnamed: 4'], inplace=True)\n",
    "df.rename(columns={'v1': 'label', 'v2': 'message'}, inplace=True)"
   ]
  },
  {
   "cell_type": "code",
   "execution_count": 4,
   "id": "84989b17",
   "metadata": {
    "execution": {
     "iopub.execute_input": "2025-08-14T09:33:46.522303Z",
     "iopub.status.busy": "2025-08-14T09:33:46.521914Z",
     "iopub.status.idle": "2025-08-14T09:33:46.551269Z",
     "shell.execute_reply": "2025-08-14T09:33:46.549836Z"
    },
    "papermill": {
     "duration": 0.035156,
     "end_time": "2025-08-14T09:33:46.553014",
     "exception": false,
     "start_time": "2025-08-14T09:33:46.517858",
     "status": "completed"
    },
    "tags": []
   },
   "outputs": [
    {
     "name": "stdout",
     "output_type": "stream",
     "text": [
      "--- Initial Data ---\n",
      "  label                                            message\n",
      "0   ham  Go until jurong point, crazy.. Available only ...\n",
      "1   ham                      Ok lar... Joking wif u oni...\n",
      "2  spam  Free entry in 2 a wkly comp to win FA Cup fina...\n",
      "3   ham  U dun say so early hor... U c already then say...\n",
      "4   ham  Nah I don't think he goes to usf, he lives aro...\n",
      "\n",
      "--- Data Info ---\n",
      "<class 'pandas.core.frame.DataFrame'>\n",
      "RangeIndex: 5572 entries, 0 to 5571\n",
      "Data columns (total 2 columns):\n",
      " #   Column   Non-Null Count  Dtype \n",
      "---  ------   --------------  ----- \n",
      " 0   label    5572 non-null   object\n",
      " 1   message  5572 non-null   object\n",
      "dtypes: object(2)\n",
      "memory usage: 87.2+ KB\n"
     ]
    }
   ],
   "source": [
    "print(\"--- Initial Data ---\")\n",
    "print(df.head())\n",
    "print(\"\\n--- Data Info ---\")\n",
    "df.info()"
   ]
  },
  {
   "cell_type": "code",
   "execution_count": 5,
   "id": "28ca7ca4",
   "metadata": {
    "execution": {
     "iopub.execute_input": "2025-08-14T09:33:46.560814Z",
     "iopub.status.busy": "2025-08-14T09:33:46.560481Z",
     "iopub.status.idle": "2025-08-14T09:33:46.570385Z",
     "shell.execute_reply": "2025-08-14T09:33:46.569544Z"
    },
    "papermill": {
     "duration": 0.015699,
     "end_time": "2025-08-14T09:33:46.572126",
     "exception": false,
     "start_time": "2025-08-14T09:33:46.556427",
     "status": "completed"
    },
    "tags": []
   },
   "outputs": [],
   "source": [
    "try:\n",
    "    stopwords.words('english')\n",
    "except:\n",
    "    nltk.download('stopwords')"
   ]
  },
  {
   "cell_type": "code",
   "execution_count": 6,
   "id": "6e24990e",
   "metadata": {
    "execution": {
     "iopub.execute_input": "2025-08-14T09:33:46.580050Z",
     "iopub.status.busy": "2025-08-14T09:33:46.579669Z",
     "iopub.status.idle": "2025-08-14T09:33:46.584384Z",
     "shell.execute_reply": "2025-08-14T09:33:46.583422Z"
    },
    "papermill": {
     "duration": 0.010417,
     "end_time": "2025-08-14T09:33:46.585921",
     "exception": false,
     "start_time": "2025-08-14T09:33:46.575504",
     "status": "completed"
    },
    "tags": []
   },
   "outputs": [],
   "source": [
    "ps = PorterStemmer()\n",
    "corpus = []"
   ]
  },
  {
   "cell_type": "code",
   "execution_count": 7,
   "id": "b825a4fb",
   "metadata": {
    "execution": {
     "iopub.execute_input": "2025-08-14T09:33:46.593971Z",
     "iopub.status.busy": "2025-08-14T09:33:46.593586Z",
     "iopub.status.idle": "2025-08-14T09:33:56.010569Z",
     "shell.execute_reply": "2025-08-14T09:33:56.009649Z"
    },
    "papermill": {
     "duration": 9.423156,
     "end_time": "2025-08-14T09:33:56.012426",
     "exception": false,
     "start_time": "2025-08-14T09:33:46.589270",
     "status": "completed"
    },
    "tags": []
   },
   "outputs": [],
   "source": [
    "for i in range(0, len(df)):\n",
    "    # Remove all characters that are not letters\n",
    "    review = re.sub('[^a-zA-Z]', ' ', df['message'][i])\n",
    "    # Convert to lowercase\n",
    "    review = review.lower()\n",
    "    # Split the message into a list of words\n",
    "    review = review.split()\n",
    "    # Stem the words and remove stopwords\n",
    "    review = [ps.stem(word) for word in review if not word in stopwords.words('english')]\n",
    "    # Join the words back into a single string\n",
    "    review = ' '.join(review)\n",
    "    corpus.append(review)"
   ]
  },
  {
   "cell_type": "code",
   "execution_count": 8,
   "id": "bae7dd00",
   "metadata": {
    "execution": {
     "iopub.execute_input": "2025-08-14T09:33:56.020130Z",
     "iopub.status.busy": "2025-08-14T09:33:56.019780Z",
     "iopub.status.idle": "2025-08-14T09:33:56.247027Z",
     "shell.execute_reply": "2025-08-14T09:33:56.246083Z"
    },
    "papermill": {
     "duration": 0.233105,
     "end_time": "2025-08-14T09:33:56.248929",
     "exception": false,
     "start_time": "2025-08-14T09:33:56.015824",
     "status": "completed"
    },
    "tags": []
   },
   "outputs": [],
   "source": [
    "tfidf = TfidfVectorizer(max_features=2500)\n",
    "X = tfidf.fit_transform(corpus).toarray()"
   ]
  },
  {
   "cell_type": "code",
   "execution_count": 9,
   "id": "8af60381",
   "metadata": {
    "execution": {
     "iopub.execute_input": "2025-08-14T09:33:56.256713Z",
     "iopub.status.busy": "2025-08-14T09:33:56.256390Z",
     "iopub.status.idle": "2025-08-14T09:33:56.264269Z",
     "shell.execute_reply": "2025-08-14T09:33:56.263189Z"
    },
    "papermill": {
     "duration": 0.013379,
     "end_time": "2025-08-14T09:33:56.265838",
     "exception": false,
     "start_time": "2025-08-14T09:33:56.252459",
     "status": "completed"
    },
    "tags": []
   },
   "outputs": [],
   "source": [
    "y = pd.get_dummies(df['label'])\n",
    "y = y['spam'].values"
   ]
  },
  {
   "cell_type": "code",
   "execution_count": 10,
   "id": "a3ed6b78",
   "metadata": {
    "execution": {
     "iopub.execute_input": "2025-08-14T09:33:56.273303Z",
     "iopub.status.busy": "2025-08-14T09:33:56.272989Z",
     "iopub.status.idle": "2025-08-14T09:33:56.343515Z",
     "shell.execute_reply": "2025-08-14T09:33:56.342533Z"
    },
    "papermill": {
     "duration": 0.076383,
     "end_time": "2025-08-14T09:33:56.345395",
     "exception": false,
     "start_time": "2025-08-14T09:33:56.269012",
     "status": "completed"
    },
    "tags": []
   },
   "outputs": [],
   "source": [
    "X_train, X_test, y_train, y_test = train_test_split(X, y, test_size=0.20, random_state=0)"
   ]
  },
  {
   "cell_type": "code",
   "execution_count": 11,
   "id": "87f91fdd",
   "metadata": {
    "execution": {
     "iopub.execute_input": "2025-08-14T09:33:56.353386Z",
     "iopub.status.busy": "2025-08-14T09:33:56.353071Z",
     "iopub.status.idle": "2025-08-14T09:33:56.409425Z",
     "shell.execute_reply": "2025-08-14T09:33:56.408385Z"
    },
    "papermill": {
     "duration": 0.062404,
     "end_time": "2025-08-14T09:33:56.411186",
     "exception": false,
     "start_time": "2025-08-14T09:33:56.348782",
     "status": "completed"
    },
    "tags": []
   },
   "outputs": [],
   "source": [
    "spam_detect_model = MultinomialNB().fit(X_train, y_train)"
   ]
  },
  {
   "cell_type": "code",
   "execution_count": 12,
   "id": "58ebe5e9",
   "metadata": {
    "execution": {
     "iopub.execute_input": "2025-08-14T09:33:56.418970Z",
     "iopub.status.busy": "2025-08-14T09:33:56.418566Z",
     "iopub.status.idle": "2025-08-14T09:33:56.447906Z",
     "shell.execute_reply": "2025-08-14T09:33:56.446777Z"
    },
    "papermill": {
     "duration": 0.035548,
     "end_time": "2025-08-14T09:33:56.450044",
     "exception": false,
     "start_time": "2025-08-14T09:33:56.414496",
     "status": "completed"
    },
    "tags": []
   },
   "outputs": [
    {
     "name": "stdout",
     "output_type": "stream",
     "text": [
      "\n",
      "--- Model Evaluation ---\n",
      "Accuracy: 0.9722\n",
      "\n",
      "Confusion Matrix:\n",
      "[[948   1]\n",
      " [ 30 136]]\n",
      "\n",
      "Classification Report:\n",
      "              precision    recall  f1-score   support\n",
      "\n",
      "       False       0.97      1.00      0.98       949\n",
      "        True       0.99      0.82      0.90       166\n",
      "\n",
      "    accuracy                           0.97      1115\n",
      "   macro avg       0.98      0.91      0.94      1115\n",
      "weighted avg       0.97      0.97      0.97      1115\n",
      "\n"
     ]
    }
   ],
   "source": [
    "\n",
    "\n",
    "# Make predictions on the test set\n",
    "y_pred = spam_detect_model.predict(X_test)\n",
    "\n",
    "# Calculate the accuracy of the model\n",
    "accuracy = accuracy_score(y_test, y_pred)\n",
    "print(f\"\\n--- Model Evaluation ---\")\n",
    "print(f\"Accuracy: {accuracy:.4f}\")\n",
    "\n",
    "# Display the confusion matrix\n",
    "print(\"\\nConfusion Matrix:\")\n",
    "print(confusion_matrix(y_test, y_pred))\n",
    "\n",
    "# Display the classification report\n",
    "print(\"\\nClassification Report:\")\n",
    "print(classification_report(y_test, y_pred))"
   ]
  },
  {
   "cell_type": "code",
   "execution_count": 13,
   "id": "04237592",
   "metadata": {
    "execution": {
     "iopub.execute_input": "2025-08-14T09:33:56.457858Z",
     "iopub.status.busy": "2025-08-14T09:33:56.457517Z",
     "iopub.status.idle": "2025-08-14T09:33:56.474043Z",
     "shell.execute_reply": "2025-08-14T09:33:56.472660Z"
    },
    "papermill": {
     "duration": 0.022395,
     "end_time": "2025-08-14T09:33:56.475829",
     "exception": false,
     "start_time": "2025-08-14T09:33:56.453434",
     "status": "completed"
    },
    "tags": []
   },
   "outputs": [
    {
     "name": "stdout",
     "output_type": "stream",
     "text": [
      "\n",
      "--- Predictions on New SMS ---\n",
      "'Congratulations! You've get job in london' -> This message is likely NOT spam (ham).\n",
      "'Hey, are we still on for dinner tonight at 7?' -> This message is likely NOT spam (ham).\n"
     ]
    }
   ],
   "source": [
    "def predict_spam(sms_message):\n",
    "    \"\"\"\n",
    "    Predicts if a given SMS message is spam or not.\n",
    "    \"\"\"\n",
    "    # Preprocess the input message\n",
    "    message = re.sub('[^a-zA-Z]', ' ', sms_message)\n",
    "    message = message.lower()\n",
    "    message = message.split()\n",
    "    message = [ps.stem(word) for word in message if not word in stopwords.words('english')]\n",
    "    message = ' '.join(message)\n",
    "\n",
    "    # Transform the message using the trained TF-IDF vectorizer\n",
    "    message_transformed = tfidf.transform([message]).toarray()\n",
    "\n",
    "    # Predict using the trained model\n",
    "    prediction = spam_detect_model.predict(message_transformed)\n",
    "\n",
    "    if prediction[0] == 1:\n",
    "        return \"This message is likely SPAM.\"\n",
    "    else:\n",
    "        return \"This message is likely NOT spam (ham).\"\n",
    "\n",
    "# Example Usage\n",
    "new_sms_spam = \"Congratulations! You've get job in london\"\n",
    "new_sms_ham = \"Hey, are we still on for dinner tonight at 7?\"\n",
    "\n",
    "print(\"\\n--- Predictions on New SMS ---\")\n",
    "print(f\"'{new_sms_spam}' -> {predict_spam(new_sms_spam)}\")\n",
    "print(f\"'{new_sms_ham}' -> {predict_spam(new_sms_ham)}\")"
   ]
  },
  {
   "cell_type": "code",
   "execution_count": null,
   "id": "3ecc5f73",
   "metadata": {
    "papermill": {
     "duration": 0.002841,
     "end_time": "2025-08-14T09:33:56.483245",
     "exception": false,
     "start_time": "2025-08-14T09:33:56.480404",
     "status": "completed"
    },
    "tags": []
   },
   "outputs": [],
   "source": []
  }
 ],
 "metadata": {
  "kaggle": {
   "accelerator": "none",
   "dataSources": [
    {
     "datasetId": 8067526,
     "sourceId": 12761898,
     "sourceType": "datasetVersion"
    }
   ],
   "dockerImageVersionId": 31089,
   "isGpuEnabled": false,
   "isInternetEnabled": false,
   "language": "python",
   "sourceType": "notebook"
  },
  "kernelspec": {
   "display_name": "Python 3",
   "language": "python",
   "name": "python3"
  },
  "language_info": {
   "codemirror_mode": {
    "name": "ipython",
    "version": 3
   },
   "file_extension": ".py",
   "mimetype": "text/x-python",
   "name": "python",
   "nbconvert_exporter": "python",
   "pygments_lexer": "ipython3",
   "version": "3.11.13"
  },
  "papermill": {
   "default_parameters": {},
   "duration": 20.650626,
   "end_time": "2025-08-14T09:33:57.509353",
   "environment_variables": {},
   "exception": null,
   "input_path": "__notebook__.ipynb",
   "output_path": "__notebook__.ipynb",
   "parameters": {},
   "start_time": "2025-08-14T09:33:36.858727",
   "version": "2.6.0"
  }
 },
 "nbformat": 4,
 "nbformat_minor": 5
}
