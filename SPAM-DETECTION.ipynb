{
 "cells": [
  {
   "cell_type": "code",
   "execution_count": 1,
   "id": "2a99c05f",
   "metadata": {
    "_cell_guid": "b1076dfc-b9ad-4769-8c92-a6c4dae69d19",
    "_uuid": "8f2839f25d086af736a60e9eeb907d3b93b6e0e5",
    "execution": {
     "iopub.execute_input": "2025-08-14T09:40:42.956426Z",
     "iopub.status.busy": "2025-08-14T09:40:42.956010Z",
     "iopub.status.idle": "2025-08-14T09:40:47.195352Z",
     "shell.execute_reply": "2025-08-14T09:40:47.194263Z"
    },
    "papermill": {
     "duration": 4.245973,
     "end_time": "2025-08-14T09:40:47.197220",
     "exception": false,
     "start_time": "2025-08-14T09:40:42.951247",
     "status": "completed"
    },
    "tags": []
   },
   "outputs": [],
   "source": [
    "import pandas as pd\n",
    "import numpy as np\n",
    "import re\n",
    "import nltk\n",
    "from nltk.corpus import stopwords\n",
    "from nltk.stem.porter import PorterStemmer\n",
    "from sklearn.feature_extraction.text import TfidfVectorizer\n",
    "from sklearn.model_selection import train_test_split\n",
    "from sklearn.naive_bayes import MultinomialNB\n",
    "from sklearn.metrics import accuracy_score, confusion_matrix, classification_report"
   ]
  },
  {
   "cell_type": "code",
   "execution_count": 2,
   "id": "67ab137c",
   "metadata": {
    "execution": {
     "iopub.execute_input": "2025-08-14T09:40:47.205224Z",
     "iopub.status.busy": "2025-08-14T09:40:47.204754Z",
     "iopub.status.idle": "2025-08-14T09:40:47.249595Z",
     "shell.execute_reply": "2025-08-14T09:40:47.248255Z"
    },
    "papermill": {
     "duration": 0.050573,
     "end_time": "2025-08-14T09:40:47.251322",
     "exception": false,
     "start_time": "2025-08-14T09:40:47.200749",
     "status": "completed"
    },
    "tags": []
   },
   "outputs": [],
   "source": [
    "try:\n",
    "    df = pd.read_csv('/kaggle/input/spamdata/spam.csv', encoding='latin-1')\n",
    "except FileNotFoundError:\n",
    "    print(\"Error: 'spam.csv' not found at '/kaggle/input/spamdata/spam.csv'. Please check the file path.\")\n",
    "    exit()"
   ]
  },
  {
   "cell_type": "code",
   "execution_count": 3,
   "id": "d2ad8f4a",
   "metadata": {
    "execution": {
     "iopub.execute_input": "2025-08-14T09:40:47.258885Z",
     "iopub.status.busy": "2025-08-14T09:40:47.258245Z",
     "iopub.status.idle": "2025-08-14T09:40:47.273540Z",
     "shell.execute_reply": "2025-08-14T09:40:47.272528Z"
    },
    "papermill": {
     "duration": 0.02056,
     "end_time": "2025-08-14T09:40:47.274992",
     "exception": false,
     "start_time": "2025-08-14T09:40:47.254432",
     "status": "completed"
    },
    "tags": []
   },
   "outputs": [],
   "source": [
    "df.drop(columns=['Unnamed: 2', 'Unnamed: 3', 'Unnamed: 4'], inplace=True)\n",
    "df.rename(columns={'v1': 'label', 'v2': 'message'}, inplace=True)"
   ]
  },
  {
   "cell_type": "code",
   "execution_count": 4,
   "id": "c73f6292",
   "metadata": {
    "execution": {
     "iopub.execute_input": "2025-08-14T09:40:47.282524Z",
     "iopub.status.busy": "2025-08-14T09:40:47.282209Z",
     "iopub.status.idle": "2025-08-14T09:40:47.306355Z",
     "shell.execute_reply": "2025-08-14T09:40:47.305303Z"
    },
    "papermill": {
     "duration": 0.029745,
     "end_time": "2025-08-14T09:40:47.307953",
     "exception": false,
     "start_time": "2025-08-14T09:40:47.278208",
     "status": "completed"
    },
    "tags": []
   },
   "outputs": [
    {
     "name": "stdout",
     "output_type": "stream",
     "text": [
      "--- Initial Data ---\n",
      "  label                                            message\n",
      "0   ham  Go until jurong point, crazy.. Available only ...\n",
      "1   ham                      Ok lar... Joking wif u oni...\n",
      "2  spam  Free entry in 2 a wkly comp to win FA Cup fina...\n",
      "3   ham  U dun say so early hor... U c already then say...\n",
      "4   ham  Nah I don't think he goes to usf, he lives aro...\n",
      "\n",
      "--- Data Info ---\n",
      "<class 'pandas.core.frame.DataFrame'>\n",
      "RangeIndex: 5572 entries, 0 to 5571\n",
      "Data columns (total 2 columns):\n",
      " #   Column   Non-Null Count  Dtype \n",
      "---  ------   --------------  ----- \n",
      " 0   label    5572 non-null   object\n",
      " 1   message  5572 non-null   object\n",
      "dtypes: object(2)\n",
      "memory usage: 87.2+ KB\n"
     ]
    }
   ],
   "source": [
    "print(\"--- Initial Data ---\")\n",
    "print(df.head())\n",
    "print(\"\\n--- Data Info ---\")\n",
    "df.info()"
   ]
  },
  {
   "cell_type": "code",
   "execution_count": 5,
   "id": "ed55e0a5",
   "metadata": {
    "execution": {
     "iopub.execute_input": "2025-08-14T09:40:47.315579Z",
     "iopub.status.busy": "2025-08-14T09:40:47.314931Z",
     "iopub.status.idle": "2025-08-14T09:40:47.324412Z",
     "shell.execute_reply": "2025-08-14T09:40:47.323415Z"
    },
    "papermill": {
     "duration": 0.015059,
     "end_time": "2025-08-14T09:40:47.326065",
     "exception": false,
     "start_time": "2025-08-14T09:40:47.311006",
     "status": "completed"
    },
    "tags": []
   },
   "outputs": [],
   "source": [
    "try:\n",
    "    stopwords.words('english')\n",
    "except:\n",
    "    nltk.download('stopwords')"
   ]
  },
  {
   "cell_type": "code",
   "execution_count": 6,
   "id": "8dd188f0",
   "metadata": {
    "execution": {
     "iopub.execute_input": "2025-08-14T09:40:47.333428Z",
     "iopub.status.busy": "2025-08-14T09:40:47.333061Z",
     "iopub.status.idle": "2025-08-14T09:40:47.337797Z",
     "shell.execute_reply": "2025-08-14T09:40:47.336811Z"
    },
    "papermill": {
     "duration": 0.010171,
     "end_time": "2025-08-14T09:40:47.339311",
     "exception": false,
     "start_time": "2025-08-14T09:40:47.329140",
     "status": "completed"
    },
    "tags": []
   },
   "outputs": [],
   "source": [
    "ps = PorterStemmer()\n",
    "corpus = []"
   ]
  },
  {
   "cell_type": "code",
   "execution_count": 7,
   "id": "8609128c",
   "metadata": {
    "execution": {
     "iopub.execute_input": "2025-08-14T09:40:47.347080Z",
     "iopub.status.busy": "2025-08-14T09:40:47.346247Z",
     "iopub.status.idle": "2025-08-14T09:40:56.522739Z",
     "shell.execute_reply": "2025-08-14T09:40:56.521731Z"
    },
    "papermill": {
     "duration": 9.182087,
     "end_time": "2025-08-14T09:40:56.524471",
     "exception": false,
     "start_time": "2025-08-14T09:40:47.342384",
     "status": "completed"
    },
    "tags": []
   },
   "outputs": [],
   "source": [
    "for i in range(0, len(df)):\n",
    "    # Remove all characters that are not letters\n",
    "    review = re.sub('[^a-zA-Z]', ' ', df['message'][i])\n",
    "    # Convert to lowercase\n",
    "    review = review.lower()\n",
    "    # Split the message into a list of words\n",
    "    review = review.split()\n",
    "    # Stem the words and remove stopwords\n",
    "    review = [ps.stem(word) for word in review if not word in stopwords.words('english')]\n",
    "    # Join the words back into a single string\n",
    "    review = ' '.join(review)\n",
    "    corpus.append(review)"
   ]
  },
  {
   "cell_type": "code",
   "execution_count": 8,
   "id": "78a5d908",
   "metadata": {
    "execution": {
     "iopub.execute_input": "2025-08-14T09:40:56.531846Z",
     "iopub.status.busy": "2025-08-14T09:40:56.531517Z",
     "iopub.status.idle": "2025-08-14T09:40:56.766074Z",
     "shell.execute_reply": "2025-08-14T09:40:56.765222Z"
    },
    "papermill": {
     "duration": 0.240087,
     "end_time": "2025-08-14T09:40:56.767718",
     "exception": false,
     "start_time": "2025-08-14T09:40:56.527631",
     "status": "completed"
    },
    "tags": []
   },
   "outputs": [],
   "source": [
    "tfidf = TfidfVectorizer(max_features=2500)\n",
    "X = tfidf.fit_transform(corpus).toarray()"
   ]
  },
  {
   "cell_type": "code",
   "execution_count": 9,
   "id": "42e91939",
   "metadata": {
    "execution": {
     "iopub.execute_input": "2025-08-14T09:40:56.775723Z",
     "iopub.status.busy": "2025-08-14T09:40:56.774993Z",
     "iopub.status.idle": "2025-08-14T09:40:56.782776Z",
     "shell.execute_reply": "2025-08-14T09:40:56.781842Z"
    },
    "papermill": {
     "duration": 0.013489,
     "end_time": "2025-08-14T09:40:56.784494",
     "exception": false,
     "start_time": "2025-08-14T09:40:56.771005",
     "status": "completed"
    },
    "tags": []
   },
   "outputs": [],
   "source": [
    "y = pd.get_dummies(df['label'])\n",
    "y = y['spam'].values"
   ]
  },
  {
   "cell_type": "code",
   "execution_count": 10,
   "id": "63f7217c",
   "metadata": {
    "execution": {
     "iopub.execute_input": "2025-08-14T09:40:56.791863Z",
     "iopub.status.busy": "2025-08-14T09:40:56.791520Z",
     "iopub.status.idle": "2025-08-14T09:40:56.860500Z",
     "shell.execute_reply": "2025-08-14T09:40:56.859569Z"
    },
    "papermill": {
     "duration": 0.074678,
     "end_time": "2025-08-14T09:40:56.862240",
     "exception": false,
     "start_time": "2025-08-14T09:40:56.787562",
     "status": "completed"
    },
    "tags": []
   },
   "outputs": [],
   "source": [
    "X_train, X_test, y_train, y_test = train_test_split(X, y, test_size=0.20, random_state=0)"
   ]
  },
  {
   "cell_type": "code",
   "execution_count": 11,
   "id": "a1068519",
   "metadata": {
    "execution": {
     "iopub.execute_input": "2025-08-14T09:40:56.869830Z",
     "iopub.status.busy": "2025-08-14T09:40:56.869527Z",
     "iopub.status.idle": "2025-08-14T09:40:56.923458Z",
     "shell.execute_reply": "2025-08-14T09:40:56.922632Z"
    },
    "papermill": {
     "duration": 0.059669,
     "end_time": "2025-08-14T09:40:56.925074",
     "exception": false,
     "start_time": "2025-08-14T09:40:56.865405",
     "status": "completed"
    },
    "tags": []
   },
   "outputs": [],
   "source": [
    "spam_detect_model = MultinomialNB().fit(X_train, y_train)"
   ]
  },
  {
   "cell_type": "code",
   "execution_count": 12,
   "id": "dc1d307c",
   "metadata": {
    "execution": {
     "iopub.execute_input": "2025-08-14T09:40:56.932237Z",
     "iopub.status.busy": "2025-08-14T09:40:56.931885Z",
     "iopub.status.idle": "2025-08-14T09:40:56.957350Z",
     "shell.execute_reply": "2025-08-14T09:40:56.956117Z"
    },
    "papermill": {
     "duration": 0.030773,
     "end_time": "2025-08-14T09:40:56.958919",
     "exception": false,
     "start_time": "2025-08-14T09:40:56.928146",
     "status": "completed"
    },
    "tags": []
   },
   "outputs": [
    {
     "name": "stdout",
     "output_type": "stream",
     "text": [
      "\n",
      "--- Model Evaluation ---\n",
      "Accuracy: 0.9722\n",
      "\n",
      "Confusion Matrix:\n",
      "[[948   1]\n",
      " [ 30 136]]\n",
      "\n",
      "Classification Report:\n",
      "              precision    recall  f1-score   support\n",
      "\n",
      "       False       0.97      1.00      0.98       949\n",
      "        True       0.99      0.82      0.90       166\n",
      "\n",
      "    accuracy                           0.97      1115\n",
      "   macro avg       0.98      0.91      0.94      1115\n",
      "weighted avg       0.97      0.97      0.97      1115\n",
      "\n"
     ]
    }
   ],
   "source": [
    "\n",
    "\n",
    "# Make predictions on the test set\n",
    "y_pred = spam_detect_model.predict(X_test)\n",
    "\n",
    "# Calculate the accuracy of the model\n",
    "accuracy = accuracy_score(y_test, y_pred)\n",
    "print(f\"\\n--- Model Evaluation ---\")\n",
    "print(f\"Accuracy: {accuracy:.4f}\")\n",
    "\n",
    "# Display the confusion matrix\n",
    "print(\"\\nConfusion Matrix:\")\n",
    "print(confusion_matrix(y_test, y_pred))\n",
    "\n",
    "# Display the classification report\n",
    "print(\"\\nClassification Report:\")\n",
    "print(classification_report(y_test, y_pred))"
   ]
  },
  {
   "cell_type": "code",
   "execution_count": 13,
   "id": "b2d4b988",
   "metadata": {
    "execution": {
     "iopub.execute_input": "2025-08-14T09:40:56.966428Z",
     "iopub.status.busy": "2025-08-14T09:40:56.966100Z",
     "iopub.status.idle": "2025-08-14T09:40:56.984993Z",
     "shell.execute_reply": "2025-08-14T09:40:56.984004Z"
    },
    "papermill": {
     "duration": 0.024381,
     "end_time": "2025-08-14T09:40:56.986569",
     "exception": false,
     "start_time": "2025-08-14T09:40:56.962188",
     "status": "completed"
    },
    "tags": []
   },
   "outputs": [
    {
     "name": "stdout",
     "output_type": "stream",
     "text": [
      "\n",
      "--- Predictions on New SMS ---\n",
      "'Congratulations! You've get job in london' -> This message is likely NOT spam (ham).\n",
      "'Hey, are we still on for dinner tonight at 7?' -> This message is likely NOT spam (ham).\n"
     ]
    }
   ],
   "source": [
    "def predict_spam(sms_message):\n",
    "    \"\"\"\n",
    "    Predicts if a given SMS message is spam or not.\n",
    "    \"\"\"\n",
    "    # Preprocess the input message\n",
    "    message = re.sub('[^a-zA-Z]', ' ', sms_message)\n",
    "    message = message.lower()\n",
    "    message = message.split()\n",
    "    message = [ps.stem(word) for word in message if not word in stopwords.words('english')]\n",
    "    message = ' '.join(message)\n",
    "\n",
    "    # Transform the message using the trained TF-IDF vectorizer\n",
    "    message_transformed = tfidf.transform([message]).toarray()\n",
    "\n",
    "    # Predict using the trained model\n",
    "    prediction = spam_detect_model.predict(message_transformed)\n",
    "\n",
    "    if prediction[0] == 1:\n",
    "        return \"This message is likely SPAM.\"\n",
    "    else:\n",
    "        return \"This message is likely NOT spam (ham).\"\n",
    "\n",
    "# Example Usage\n",
    "new_sms_spam = \"Congratulations! You've get job in london\"\n",
    "new_sms_ham = \"Hey, are we still on for dinner tonight at 7?\"\n",
    "\n",
    "print(\"\\n--- Predictions on New SMS ---\")\n",
    "print(f\"'{new_sms_spam}' -> {predict_spam(new_sms_spam)}\")\n",
    "print(f\"'{new_sms_ham}' -> {predict_spam(new_sms_ham)}\")"
   ]
  },
  {
   "cell_type": "code",
   "execution_count": null,
   "id": "e4bca156",
   "metadata": {
    "papermill": {
     "duration": 0.002851,
     "end_time": "2025-08-14T09:40:56.993531",
     "exception": false,
     "start_time": "2025-08-14T09:40:56.990680",
     "status": "completed"
    },
    "tags": []
   },
   "outputs": [],
   "source": []
  }
 ],
 "metadata": {
  "kaggle": {
   "accelerator": "none",
   "dataSources": [
    {
     "datasetId": 8067526,
     "sourceId": 12761898,
     "sourceType": "datasetVersion"
    }
   ],
   "dockerImageVersionId": 31089,
   "isGpuEnabled": false,
   "isInternetEnabled": false,
   "language": "python",
   "sourceType": "notebook"
  },
  "kernelspec": {
   "display_name": "Python 3",
   "language": "python",
   "name": "python3"
  },
  "language_info": {
   "codemirror_mode": {
    "name": "ipython",
    "version": 3
   },
   "file_extension": ".py",
   "mimetype": "text/x-python",
   "name": "python",
   "nbconvert_exporter": "python",
   "pygments_lexer": "ipython3",
   "version": "3.11.13"
  },
  "papermill": {
   "default_parameters": {},
   "duration": 19.626482,
   "end_time": "2025-08-14T09:40:57.716021",
   "environment_variables": {},
   "exception": null,
   "input_path": "__notebook__.ipynb",
   "output_path": "__notebook__.ipynb",
   "parameters": {},
   "start_time": "2025-08-14T09:40:38.089539",
   "version": "2.6.0"
  }
 },
 "nbformat": 4,
 "nbformat_minor": 5
}
